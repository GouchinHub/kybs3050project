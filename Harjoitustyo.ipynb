{
 "cells": [
  {
   "cell_type": "code",
   "execution_count": null,
   "id": "25ec7271-b62b-4599-b7fc-aef232445c58",
   "metadata": {},
   "outputs": [],
   "source": [
    "import pandas as pd\n",
    "import numpy as np\n",
    "import matplotlib.pyplot as plt\n",
    "import sklearn\n",
    "from sklearn.preprocessing import MinMaxScaler\n",
    "from sklearn.ensemble import RandomForestClassifier\n",
    "from sklearn.model_selection import GridSearchCV, train_test_split\n",
    "from sklearn.metrics import accuracy_score, classification_report, confusion_matrix, precision_score, recall_score, f1_score\n",
    "from sklearn.utils import class_weight\n",
    "from tensorflow.keras.layers import Reshape, Input, Dense, Activation, Dropout, Conv1D, MaxPooling1D, Flatten\n",
    "from tensorflow.keras.models import Sequential\n",
    "from tensorflow.keras.models import Model\n",
    "import tensorflow as tf\n",
    "from keras import regularizers\n",
    "import seaborn as sns\n",
    "from tensorflow.keras.utils import to_categorical\n",
    "from sklearn.preprocessing import LabelEncoder\n",
    "\n",
    "\n",
    "# Kokeiltavat mallit\n",
    "from sklearn.neural_network import MLPClassifier\n"
   ]
  },
  {
   "cell_type": "markdown",
   "id": "fa1c01a5-006d-46a4-93bd-86cb6939ed89",
   "metadata": {},
   "source": [
    "# DDoS hyökkäysten tunnistaminen tietoliikenteestä\n",
    "\n",
    "### Dataset\n",
    "https://www.kaggle.com/datasets/solarmainframe/ids-intrusion-csv/\n",
    "\n",
    "## Esittely\n",
    "Tässä työssä kokeillaan kolmea eri koneoppimisen mallia DDoS hyökkäysten tunnistamiseen New Brunswick'in yliopiston keräämän DDoS hyökkäys datan avulla"
   ]
  },
  {
   "cell_type": "code",
   "execution_count": null,
   "id": "187b838e-a82f-43a6-9a22-1c1ffb17c411",
   "metadata": {},
   "outputs": [],
   "source": [
    "df = pd.read_csv('data/02-14-2018.csv')\n",
    "pd.set_option('display.max_columns', None)"
   ]
  },
  {
   "cell_type": "markdown",
   "id": "cff97357-fd81-4738-b336-818a8a324dcf",
   "metadata": {},
   "source": [
    "Raakadatan tiedot"
   ]
  },
  {
   "cell_type": "code",
   "execution_count": null,
   "id": "54d051b5-3729-4db2-bb50-d48c0544f89a",
   "metadata": {
    "scrolled": true
   },
   "outputs": [],
   "source": [
    "df.describe()"
   ]
  },
  {
   "cell_type": "markdown",
   "id": "e5211096-e027-4f89-b8da-3cdf05898aaf",
   "metadata": {},
   "source": [
    "Datan esikäsittely"
   ]
  },
  {
   "cell_type": "code",
   "execution_count": null,
   "id": "da10a665-e4ac-4f99-92a0-f773bb0dd5c0",
   "metadata": {},
   "outputs": [],
   "source": [
    "# Tiputetaan tarpeettomat kolumnit (sisältävät pelkästään arvoja 0)\n",
    "df = df.drop(columns=['Bwd PSH Flags', 'Fwd URG Flags', 'Bwd URG Flags', 'CWE Flag Count', 'Fwd Byts/b Avg', 'Fwd Pkts/b Avg', 'Fwd Blk Rate Avg', 'Bwd Byts/b Avg', 'Bwd Pkts/b Avg', 'Bwd Blk Rate Avg'])"
   ]
  },
  {
   "cell_type": "code",
   "execution_count": null,
   "id": "37f41c6a-ba1d-40fc-b793-8fbcb770321f",
   "metadata": {},
   "outputs": [],
   "source": [
    "# Aikaleimoista ei ole hyöytyä hyökkäysten tunnistamisessa, poistetaan ne\n",
    "df.drop(columns=['Timestamp'], inplace=True)"
   ]
  },
  {
   "cell_type": "code",
   "execution_count": null,
   "id": "eca6927f-116f-4c5c-af0c-c05f6e7c74f7",
   "metadata": {},
   "outputs": [],
   "source": [
    "# Portti ja protokolla eivät myöskään hyödytä, poistetaan ne\n",
    "df.drop(columns=['Dst Port', 'Protocol'], inplace=True)"
   ]
  },
  {
   "cell_type": "code",
   "execution_count": null,
   "id": "f5cd2f1f-a8a0-4e9c-82d9-10b3d23aa43d",
   "metadata": {},
   "outputs": [],
   "source": [
    "# Poistetaan äärettömät arvot\n",
    "df.replace([np.inf, -np.inf], np.nan, inplace=True)"
   ]
  },
  {
   "cell_type": "code",
   "execution_count": null,
   "id": "fe416622-e030-4e09-9475-c91ff0c3ba92",
   "metadata": {},
   "outputs": [],
   "source": [
    "# Käytetään virheetöntä dataa, poistetaan puutteelliset rivit\n",
    "df.dropna(inplace=True)"
   ]
  },
  {
   "cell_type": "code",
   "execution_count": null,
   "id": "cbf95083-e519-4d5e-aa63-a73b973aaadf",
   "metadata": {},
   "outputs": [],
   "source": [
    "### TURHA????\n",
    "\n",
    "df[\"Label\"].value_counts()"
   ]
  },
  {
   "cell_type": "code",
   "execution_count": null,
   "id": "25f23d82-2fd5-40b1-b1f6-a07c2bd6acbf",
   "metadata": {},
   "outputs": [],
   "source": [
    "# Yhdistetään hyökkäystyylit ja luokitellaan ne hyökkäyksinä\n",
    "df.replace(to_replace=[\"FTP-BruteForce\", \"SSH-Bruteforce\"], value=\"Attack\", inplace=True)"
   ]
  },
  {
   "cell_type": "code",
   "execution_count": null,
   "id": "a6bafdb3-7ceb-4279-bd50-7aba9eaef1af",
   "metadata": {},
   "outputs": [],
   "source": [
    "# Muutetaan hyökkäystyypit numeeriseen muotoon\n",
    "df.replace(to_replace=\"Benign\", value=0, inplace=True)\n",
    "df.replace(to_replace=\"Attack\", value=1, inplace=True)"
   ]
  },
  {
   "cell_type": "code",
   "execution_count": null,
   "id": "eb597ac7-63de-4144-b98f-20e1f83b077a",
   "metadata": {},
   "outputs": [],
   "source": [
    "min_max_scaler = MinMaxScaler().fit(train[train.drop(columns=[\"Label\"]).columns])\n",
    "df[df.drop(columns=[\"Label\"]).columns] = min_max_scaler.transform(df[df.drop(columns=[\"Label\"]).columns])"
   ]
  },
  {
   "cell_type": "code",
   "execution_count": null,
   "id": "165e95f6-3425-4f51-96b6-8cb06cf5562a",
   "metadata": {},
   "outputs": [],
   "source": [
    "# Jaetaan data harjoitus ja testi dataksi\n",
    "train, test = train_test_split(df, test_size=0.3, random_state=42)"
   ]
  },
  {
   "cell_type": "code",
   "execution_count": null,
   "id": "276c2e03-3cbb-433c-aef6-9a7185e660d5",
   "metadata": {},
   "outputs": [],
   "source": [
    "# Luodaan min max scaler jolla voidaan normalisoida data 0-1 välillä oleviksi arvoiksi\n",
    "min_max_scaler = MinMaxScaler().fit(train[train.drop(columns=[\"Label\"]).columns])\n",
    "train[train.drop(columns=[\"Label\"]).columns] = min_max_scaler.transform(train[train.drop(columns=[\"Label\"]).columns])\n",
    "test[test.drop(columns=[\"Label\"]).columns] = min_max_scaler.transform(test[test.drop(columns=[\"Label\"]).columns])"
   ]
  },
  {
   "cell_type": "code",
   "execution_count": null,
   "id": "0ac4ad72-6644-40cf-b012-5e0d9a97bce2",
   "metadata": {},
   "outputs": [],
   "source": [
    "# Erotetaan luokittelu harjoitus ja testidatasta\n",
    "y_train = np.array(train.pop(\"Label\"))\n",
    "X_train = train.values\n",
    "\n",
    "y_test = np.array(test.pop(\"Label\"))\n",
    "X_test = test.values"
   ]
  },
  {
   "cell_type": "code",
   "execution_count": null,
   "id": "f5f79c8c-9d9a-43b9-bb11-c9068d6753b9",
   "metadata": {},
   "outputs": [],
   "source": [
    "print(X_train.shape)\n",
    "print(y_train.shape)"
   ]
  },
  {
   "cell_type": "markdown",
   "id": "efbcabbb-4631-4f10-be3f-86d6e3de4fe9",
   "metadata": {},
   "source": [
    "# Multilayer Perceptron Classifier\n",
    "\n",
    "Kokeillaan ensin DDoS hyökkäysten tunnistamista Multilayer Perceptron Classifierin avulla"
   ]
  },
  {
   "cell_type": "code",
   "execution_count": null,
   "id": "9ba1645d-0fb9-417f-aeff-1e049eff208c",
   "metadata": {},
   "outputs": [],
   "source": [
    "# Koulutetaan Multilayer Perceptron Classifier \n",
    "clf = MLPClassifier(random_state=1, max_iter=300).fit(X_train, y_train)"
   ]
  },
  {
   "cell_type": "code",
   "execution_count": null,
   "id": "6bc5bfd0-5eda-4ba5-b7ef-635853b493ad",
   "metadata": {},
   "outputs": [],
   "source": [
    "# Ennustetaan DDoS hyökkäyksiä testidatasta\n",
    "result = clf.predict(X_test)"
   ]
  },
  {
   "cell_type": "code",
   "execution_count": null,
   "id": "1c72792d-8419-4707-a59f-8cfa7f6be355",
   "metadata": {},
   "outputs": [],
   "source": [
    "# VOI POISTAA?\n",
    "np.unique(result, return_counts=True)"
   ]
  },
  {
   "cell_type": "code",
   "execution_count": null,
   "id": "921d5e29-3797-4fd6-a8b6-c09ede30b6d3",
   "metadata": {},
   "outputs": [],
   "source": [
    "# VOI POISTAA?\n",
    "np.unique(y_test, return_counts=True)"
   ]
  },
  {
   "cell_type": "code",
   "execution_count": null,
   "id": "39b8d9e9-a3ae-4e2d-8ef1-6be1cb2af012",
   "metadata": {},
   "outputs": [],
   "source": [
    "# VOI POISTAA?\n",
    "np.set_printoptions(threshold=np.inf)"
   ]
  },
  {
   "cell_type": "code",
   "execution_count": null,
   "id": "2ceb85ec-fd6c-4b6e-874f-bea4c9b2347f",
   "metadata": {},
   "outputs": [],
   "source": [
    "# VOI POISTAA?\n",
    "differing_values = np.sum(result != y_test)"
   ]
  },
  {
   "cell_type": "code",
   "execution_count": null,
   "id": "610ec77c-54bb-4787-83ad-2f384fdc68fb",
   "metadata": {},
   "outputs": [],
   "source": [
    "# Luodaan sekaannusmatriisi tuloksisat\n",
    "conf_matrix = confusion_matrix(y_test, result)\n",
    "print(\"Confusion Matrix:\")\n",
    "\n",
    "sns.heatmap(conf_matrix, annot=True, fmt=\"d\", cmap=\"Blues\")\n",
    "plt.xlabel(\"Predicted\")\n",
    "plt.ylabel(\"Actual\")\n",
    "plt.show()"
   ]
  },
  {
   "cell_type": "code",
   "execution_count": null,
   "id": "22a37433-dec9-4089-8bf6-d6249501af47",
   "metadata": {},
   "outputs": [],
   "source": [
    "# Lasketaan precision_score, recall_score, ja f1_score\n",
    "precision = precision_score(y_test, result)\n",
    "recall = recall_score(y_test, result)\n",
    "f1 = f1_score(y_test, result)\n",
    "\n",
    "print(f\"Precision: {precision:.6f}\")\n",
    "print(f\"Recall: {recall:.6f}\")\n",
    "print(f\"F1 Score: {f1:.6f}\")"
   ]
  },
  {
   "cell_type": "markdown",
   "id": "922d2e9e-cfb8-4e21-a7d0-ee48d9f0519b",
   "metadata": {},
   "source": [
    "# Konvoluutioneuroverkko\n",
    "\n",
    "Kokeillaan seuraavaksi DDoS hyökkäysten tunnistamista Konvoluutioneuroverkon avulla"
   ]
  },
  {
   "cell_type": "code",
   "execution_count": null,
   "id": "39792927-2c82-4fb0-bafa-a2d76d96f241",
   "metadata": {},
   "outputs": [],
   "source": [
    "### ???\n",
    "\n",
    "# Pienennetään koulutusaineiston ja testiaineiston kokoa\n",
    "\n",
    "y_train  = y_train[0:1000]\n",
    "X_train = X_train[0:1000]\n",
    "\n",
    "y_test  = y_test[0:1000]\n",
    "X_test  = X_test[0:1000]\n",
    "\n",
    "##y_train_small = tensorflow.keras.utils.to_categorical(y_train_small, 1)\n",
    "##y_test_small = tensorflow.keras.utils.to_categorical(y_test_small, 1)\n",
    "\n",
    "print(y_train_small.shape)\n",
    "print(X_train_small.shape)\n",
    "print(y_test_small.shape)\n",
    "print(X_test_small.shape)"
   ]
  },
  {
   "cell_type": "code",
   "execution_count": null,
   "id": "c8a2c428-7e6f-487c-bd00-5c3ca4d57deb",
   "metadata": {},
   "outputs": [],
   "source": [
    "### TURHAA??\n",
    "###label_encoder = LabelEncoder()\n",
    "###y = label_encoder.fit_transform(df[\"Label\"])"
   ]
  },
  {
   "cell_type": "code",
   "execution_count": null,
   "id": "0df20404-5e86-44c3-80a3-6534564dc40f",
   "metadata": {},
   "outputs": [],
   "source": [
    "# Convert labels to one-hot encoding\n",
    "y_train_one_hot = to_categorical(y_train)\n",
    "y_test_one_hot = to_categorical(y_test)\n"
   ]
  },
  {
   "cell_type": "code",
   "execution_count": null,
   "id": "a9c17e1d-24da-4297-bbe7-04825bedcce9",
   "metadata": {
    "scrolled": true
   },
   "outputs": [],
   "source": [
    "# Rakennetaan cnn malli\n",
    "def create_CNN_model():\n",
    "    model = Sequential()\n",
    "    model.add(Conv1D(32, kernel_size=3, activation='relu', input_shape=(X_train.shape[1], 1)))\n",
    "    model.add(MaxPooling1D(pool_size=2))\n",
    "    model.add(Flatten())\n",
    "    model.add(Dense(256, activation='relu')) #128\n",
    "    model.add(Dropout(0.5))\n",
    "    model.add(Dense(len(label_encoder.classes_), activation='softmax'))\n",
    "    \n",
    "    # Compile the model\n",
    "    model.compile(optimizer='adam', loss='categorical_crossentropy', metrics=['accuracy'])\n",
    "\n"
   ]
  },
  {
   "cell_type": "code",
   "execution_count": null,
   "id": "adee6646-9a0f-4d84-841f-7d1f9c2ab9e0",
   "metadata": {},
   "outputs": [],
   "source": [
    "# Koulutetaan malli\n",
    "history = model.fit(X_train, \n",
    "                    y_train_one_hot, \n",
    "                    epochs=100, \n",
    "                    batch_size=256, \n",
    "                    validation_data=(X_test, y_test_one_hot))"
   ]
  },
  {
   "cell_type": "code",
   "execution_count": null,
   "id": "54ed69fb-ac81-4a08-873a-1e91345f230c",
   "metadata": {},
   "outputs": [],
   "source": [
    "# Luodaan käyrä menetyksien määrän kehityksestä jokaisella Epochilla\n",
    "plt.figure(figsize=[8,6])\n",
    "train_line = plt.plot(history.history['loss'],'r',linewidth=3.0)\n",
    "val_line  = plt.plot(history.history['val_loss'],'b',linewidth=3.0)\n",
    "plt.legend(['Training loss', 'Validation Loss'],fontsize=12)\n",
    "plt.xlabel('Epochs ',fontsize=12)\n",
    "plt.ylabel('Loss',fontsize=12)\n",
    "plt.title('Loss Curves',fontsize=12)\n",
    "plt.setp(train_line, color='r', alpha=0.75)\n",
    "plt.setp(val_line, color='b', alpha=0.75)"
   ]
  },
  {
   "cell_type": "code",
   "execution_count": null,
   "id": "92f9a2ee-982e-494e-a672-179a5ab3c5d0",
   "metadata": {},
   "outputs": [],
   "source": [
    "# Luodaan käyrä tarkkuuden kehityksestä jokaisella Epochilla\n",
    "plt.figure(figsize=[8,6])\n",
    "train_line = plt.plot(history.history['accuracy'],'r',linewidth=3.0)\n",
    "val_line  = plt.plot(history.history['val_accuracy'],'b',linewidth=3.0)\n",
    "plt.legend(['Training Accuracy', 'Validation Accuracy'],fontsize=12)\n",
    "plt.xlabel('Epochs ',fontsize=12)\n",
    "plt.ylabel('Accuracy',fontsize=12)\n",
    "plt.title('Accuracy Curves',fontsize=12)\n",
    "plt.setp(train_line, color='r', alpha=0.75)\n",
    "plt.setp(val_line, color='b', alpha=0.75)\n",
    "\n",
    "plt.show()"
   ]
  },
  {
   "cell_type": "markdown",
   "id": "ea9f2b04-6fab-47aa-b928-b467637ce5ca",
   "metadata": {},
   "source": [
    "Sitten CNN"
   ]
  },
  {
   "cell_type": "code",
   "execution_count": null,
   "id": "fb0f9140-7d4d-4775-ab3d-96c90a5e8087",
   "metadata": {},
   "outputs": [],
   "source": [
    "# POISTETAAN\n",
    "\n",
    "def general_CNN():\n",
    "    model = Sequential()\n",
    "    \n",
    "    # Add a Reshape layer to add a channel dimension\n",
    "    model.add(Reshape((66, 1), input_shape=(66,)))\n",
    "\n",
    "    model.add(Conv1D(64, kernel_size=3, activation='relu'))\n",
    "    model.add(MaxPooling1D(pool_size=2))\n",
    "    model.add(Conv1D(128, kernel_size=3, activation='relu'))\n",
    "    \n",
    "    model.add(Flatten())\n",
    "    \n",
    "    model.add(Dense(256, activation='relu'))\n",
    "    model.add(Dropout(0.5))\n",
    "    model.add(Dense(1, activation='softmax'))\n",
    "\n",
    "    model.compile(optimizer='adam', loss='categorical_crossentropy', metrics=['accuracy'])\n",
    "    \n",
    "    return model"
   ]
  },
  {
   "cell_type": "code",
   "execution_count": null,
   "id": "df7fe3ad-34bc-4b7a-9507-9787444c37ff",
   "metadata": {},
   "outputs": [],
   "source": [
    "# POISTETAAN\n",
    "\n",
    "with tf.device('/gpu:0'):\n",
    "    deep_cnn_model = general_CNN()\n",
    "print(deep_cnn_model.summary()) \n",
    "\n",
    "from tensorflow.keras.utils import plot_model\n",
    "plot_model(deep_cnn_model, to_file='deep_cnn_model.png',show_shapes=True)"
   ]
  },
  {
   "cell_type": "markdown",
   "id": "7d66d40b-c56e-4d42-ac43-0fb7be6caa37",
   "metadata": {},
   "source": [
    "# Autoencoder\n",
    "\n",
    "Kokeillaan vielä DDoS hyökkäysten tunnistamista yksinkertaisen autoencoderin avulla"
   ]
  },
  {
   "cell_type": "code",
   "execution_count": null,
   "id": "63297164-4dd4-414e-bd27-80d64005c97d",
   "metadata": {},
   "outputs": [],
   "source": [
    "# otetaan uudet harjoitus ja testidata setit\n",
    "train, test = train_test_split(df, test_size=0.3, random_state=55)"
   ]
  },
  {
   "cell_type": "code",
   "execution_count": null,
   "id": "4873dde9-3963-4274-9eb4-09c81cdeb6ca",
   "metadata": {},
   "outputs": [],
   "source": [
    "# Ajetaan min max scaler uudestaan\n",
    "min_max_scaler = MinMaxScaler().fit(train[train.drop(columns=[\"Label\"]).columns])\n",
    "train[train.drop(columns=[\"Label\"]).columns] = min_max_scaler.transform(train[train.drop(columns=[\"Label\"]).columns])\n",
    "test[test.drop(columns=[\"Label\"]).columns] = min_max_scaler.transform(test[test.drop(columns=[\"Label\"]).columns])"
   ]
  },
  {
   "cell_type": "code",
   "execution_count": 3,
   "id": "945c59f8-11f5-49cb-8620-47dfc3ba1785",
   "metadata": {},
   "outputs": [
    {
     "ename": "NameError",
     "evalue": "name 'train_test_split' is not defined",
     "output_type": "error",
     "traceback": [
      "\u001b[1;31m---------------------------------------------------------------------------\u001b[0m",
      "\u001b[1;31mNameError\u001b[0m                                 Traceback (most recent call last)",
      "Cell \u001b[1;32mIn[3], line 1\u001b[0m\n\u001b[1;32m----> 1\u001b[0m train, test \u001b[38;5;241m=\u001b[39m \u001b[43mtrain_test_split\u001b[49m(df, test_size\u001b[38;5;241m=\u001b[39m\u001b[38;5;241m0.3\u001b[39m, random_state\u001b[38;5;241m=\u001b[39m\u001b[38;5;241m42\u001b[39m)\n\u001b[0;32m      3\u001b[0m min_max_scaler \u001b[38;5;241m=\u001b[39m MinMaxScaler()\u001b[38;5;241m.\u001b[39mfit(train[train\u001b[38;5;241m.\u001b[39mdrop(columns\u001b[38;5;241m=\u001b[39m[\u001b[38;5;124m\"\u001b[39m\u001b[38;5;124mLabel\u001b[39m\u001b[38;5;124m\"\u001b[39m])\u001b[38;5;241m.\u001b[39mcolumns])\n\u001b[0;32m      4\u001b[0m train[train\u001b[38;5;241m.\u001b[39mdrop(columns\u001b[38;5;241m=\u001b[39m[\u001b[38;5;124m\"\u001b[39m\u001b[38;5;124mLabel\u001b[39m\u001b[38;5;124m\"\u001b[39m])\u001b[38;5;241m.\u001b[39mcolumns] \u001b[38;5;241m=\u001b[39m min_max_scaler\u001b[38;5;241m.\u001b[39mtransform(train[train\u001b[38;5;241m.\u001b[39mdrop(columns\u001b[38;5;241m=\u001b[39m[\u001b[38;5;124m\"\u001b[39m\u001b[38;5;124mLabel\u001b[39m\u001b[38;5;124m\"\u001b[39m])\u001b[38;5;241m.\u001b[39mcolumns])\n",
      "\u001b[1;31mNameError\u001b[0m: name 'train_test_split' is not defined"
     ]
    }
   ],
   "source": [
    "# Otetaan erilleen kaikki \n",
    "anomalous_data = test[test['Label'] == 1]\n",
    "normal_data = test[test['Label'] == 0]\n",
    "\n",
    "y_train = np.array(train.pop(\"Label\"))\n",
    "X_train = train.values\n",
    "\n",
    "y_test = np.array(test.pop(\"Label\"))\n",
    "X_test = test.values"
   ]
  },
  {
   "cell_type": "code",
   "execution_count": null,
   "id": "c2886fb4-0d77-442e-a56f-501d3249e1e6",
   "metadata": {},
   "outputs": [],
   "source": [
    "print(len(anomalous_data))\n",
    "print(len(normal_data))"
   ]
  },
  {
   "cell_type": "code",
   "execution_count": null,
   "id": "97b174ec-7d52-47c5-a348-dba87ce9527f",
   "metadata": {},
   "outputs": [],
   "source": [
    "# luodaan yksinkertainen autoencoder\n",
    "def simple_autoencoder():\n",
    "    input_dim = X_train.shape[1]\n",
    "    encoding_dim = 14  # You can adjust this based on the size of your data\n",
    "\n",
    "    input_layer = Input(shape=(input_dim,))\n",
    "    encoder = Dense(encoding_dim, activation=\"tanh\", activity_regularizer=regularizers.l1(10e-5))(input_layer)\n",
    "    encoder = Dense(int(encoding_dim / 2), activation=\"relu\")(encoder)\n",
    "    decoder = Dense(int(encoding_dim / 2), activation='tanh')(encoder)\n",
    "    decoder = Dense(input_dim, activation='relu')(decoder)\n",
    "    autoencoder = Model(inputs=input_layer, outputs=decoder)\n",
    "\n",
    "    autoencoder.compile(optimizer='adam', loss='MSE')\n",
    "    \n",
    "    return(autoencoder,encoder,decoder)"
   ]
  },
  {
   "cell_type": "code",
   "execution_count": null,
   "id": "b6c64730-fbc5-45af-972d-65ed7b51b857",
   "metadata": {},
   "outputs": [],
   "source": [
    "# En tiiä mitä näistä käytetään :DD \n",
    "def simple_autoencoder():\n",
    "    input_dim = X_train.shape[1]\n",
    "    encoding_dim = 14  # You can adjust this based on the size of your data\n",
    "\n",
    "    input_layer = Input(shape=(input_dim,))\n",
    "    encoder = Dense(encoding_dim, activation=\"relu\")(input_layer)\n",
    "    encoder = Dense(int(encoding_dim / 2), activation=\"relu\")(encoder)\n",
    "    decoder = Dense(int(encoding_dim / 2), activation='relu')(encoder)\n",
    "    decoder = Dense(input_dim, activation='sigmoid')(decoder)\n",
    "    autoencoder = Model(inputs=input_layer, outputs=decoder)\n",
    "\n",
    "    autoencoder.compile(optimizer='adam', loss='MSE')\n",
    "    \n",
    "    return(autoencoder,encoder,decoder)"
   ]
  },
  {
   "cell_type": "code",
   "execution_count": null,
   "id": "600af1d3-64cb-449c-98b2-086411b161d5",
   "metadata": {},
   "outputs": [],
   "source": [
    "# En tiiä mitä näistä käytetään :DD \n",
    "def simple_autoencoder():\n",
    "    #encoding_dim = 10\n",
    "    encoding_dim = 10\n",
    "    \n",
    "    input_shape = Input(shape=(66,))\n",
    "    encoded = Dense(32, activation='relu')(input_shape)\n",
    "    #encoded = Dense(10, activation='relu')(encoded)\n",
    "    encoded = Dense(3, activation='relu')(encoded) # Encoder\n",
    "    #decoded = Dense(10, activation='relu')(encoded)\n",
    "    decoded = Dense(32, activation='relu')(encoded)\n",
    "    decoded = Dense(66, activation='sigmoid')(decoded)\n",
    "\n",
    "    # this model maps an input to its reconstruction\n",
    "    autoencoder = Model(input_shape, decoded)\n",
    "\n",
    "    encoder = Model(input_shape, encoded)\n",
    "    # create a placeholder for an encoded input\n",
    "    encoded_input = Input(shape=(encoding_dim,))\n",
    "    # retrieve the last layer of the autoencoder model\n",
    "    decoder_layer = autoencoder.layers[0]\n",
    "    # create the decoder model\n",
    "    decoder = Model(encoded_input, decoder_layer(encoded_input))\n",
    "\n",
    "    autoencoder.compile(optimizer='adam', loss='MSE')\n",
    "    \n",
    "    return(autoencoder,encoder,decoder)"
   ]
  },
  {
   "cell_type": "code",
   "execution_count": null,
   "id": "6f79c7af-a754-45bf-952c-3074378f36e2",
   "metadata": {},
   "outputs": [],
   "source": [
    "autoencoder, encoder, decoder = simple_autoencoder()\n",
    "print(autoencoder.summary())"
   ]
  },
  {
   "cell_type": "code",
   "execution_count": null,
   "id": "87a1b435-f0a9-41b4-bdb3-808918d78251",
   "metadata": {},
   "outputs": [],
   "source": [
    "# Koulutetaan malli\n",
    "autoencoder, encoder, decoder = simple_autoencoder()\n",
    "print(autoencoder.summary())\n",
    "autoencoder.fit(X_train, X_train,\n",
    "                epochs=10,\n",
    "                batch_size=1000, \n",
    "                shuffle=True, \n",
    "                validation_data=(X_test, X_test))"
   ]
  },
  {
   "cell_type": "code",
   "execution_count": null,
   "id": "7ef0a351-49ec-4f10-b618-c64cab9273f5",
   "metadata": {},
   "outputs": [],
   "source": [
    "# Yritetään ennustaa \n",
    "predictions = autoencoder.predict(X_test)"
   ]
  },
  {
   "cell_type": "code",
   "execution_count": null,
   "id": "af96a614-24fa-4a27-9bd7-1e633b58b58a",
   "metadata": {},
   "outputs": [],
   "source": [
    "mse = np.mean(np.power(X_test - predictions, 2), axis=1)"
   ]
  },
  {
   "cell_type": "code",
   "execution_count": null,
   "id": "c352b004-dd4c-4cde-8857-d1088527ddfa",
   "metadata": {},
   "outputs": [],
   "source": [
    "# Käytetään 95% tarkkuutta ???????????\n",
    "threshold = np.percentile(mse, 95)"
   ]
  },
  {
   "cell_type": "code",
   "execution_count": null,
   "id": "b67e6b59-e034-4a4d-846e-a1ed7f007d34",
   "metadata": {},
   "outputs": [],
   "source": [
    "y_pred = [1 if error > threshold else 0 for error in mse]\n",
    "y_true = [1] * len(anomalous_data) + [0] * len(normal_data)"
   ]
  },
  {
   "cell_type": "code",
   "execution_count": null,
   "id": "df89d2f7-369d-4989-8f63-66f262e2392e",
   "metadata": {},
   "outputs": [],
   "source": [
    "conf_matrix = confusion_matrix(y_true, y_pred)\n",
    "print(\"Confusion Matrix:\")\n",
    "print(conf_matrix)"
   ]
  },
  {
   "cell_type": "code",
   "execution_count": null,
   "id": "eb050f87-06ef-441f-9b86-1533523919de",
   "metadata": {},
   "outputs": [],
   "source": [
    "# Luodaan \n",
    "sns.heatmap(conf_matrix, annot=True, fmt=\"d\", cmap=\"Blues\")\n",
    "plt.xlabel(\"Predicted\")\n",
    "plt.ylabel(\"Actual\")\n",
    "plt.show()"
   ]
  },
  {
   "cell_type": "code",
   "execution_count": null,
   "id": "cd6c2a89-9942-4867-8737-c6b0c4b88793",
   "metadata": {
    "scrolled": true
   },
   "outputs": [],
   "source": [
    "precision = precision_score(y_true, y_pred)\n",
    "recall = recall_score(y_true, y_pred)\n",
    "f1 = f1_score(y_true, y_pred)\n",
    "\n",
    "print(f\"Precision: {precision:.2f}\")\n",
    "print(f\"Recall: {recall:.2f}\")\n",
    "print(f\"F1 Score: {f1:.2f}\")"
   ]
  },
  {
   "cell_type": "code",
   "execution_count": null,
   "id": "79e06369-8775-48a0-8a06-37800ce7c38f",
   "metadata": {},
   "outputs": [],
   "source": [
    "predictions[0:1000]\n",
    "threshold"
   ]
  },
  {
   "cell_type": "code",
   "execution_count": null,
   "id": "4a08e977-4a27-4a2d-9a9f-c35dff4af26f",
   "metadata": {},
   "outputs": [],
   "source": []
  }
 ],
 "metadata": {
  "kernelspec": {
   "display_name": "Python 3 (ipykernel)",
   "language": "python",
   "name": "python3"
  },
  "language_info": {
   "codemirror_mode": {
    "name": "ipython",
    "version": 3
   },
   "file_extension": ".py",
   "mimetype": "text/x-python",
   "name": "python",
   "nbconvert_exporter": "python",
   "pygments_lexer": "ipython3",
   "version": "3.11.7"
  }
 },
 "nbformat": 4,
 "nbformat_minor": 5
}
